{
 "cells": [
  {
   "cell_type": "markdown",
   "metadata": {},
   "source": [
    "<div style=\"text-align: center;\">\n",
    "  <img src=\"https://github.com/Hack-io-Data/Imagenes/blob/main/01-LogosHackio/logo_celeste@4x.png?raw=true\" alt=\"esquema\" />\n",
    "</div>\n"
   ]
  },
  {
   "cell_type": "markdown",
   "metadata": {},
   "source": [
    "En este ejercicio, se te pedirá que escribas un programa en Python que utilice condicionales para determinar el monto final de una compra en una tienda en línea, después de aplicar un descuento. El programa debe hacer lo siguiente:\n",
    "\n",
    "1. Solicita al usuario que ingrese el precio original de un artículo.\n",
    "\n",
    "2. Pregunta al usuario si tiene un cupón de descuento (respuesta sí o no).\n",
    "\n",
    "3. Si el usuario responde que sí, solicita que ingrese el valor del cupón de descuento.\n",
    "\n",
    "4. Aplica el descuento al precio original del artículo, siempre y cuando el valor del cupón sea válido (es decir, mayor a cero). Por ejemplo, descuento de 15€. \n",
    "\n",
    "5. Muestra el precio final de la compra, teniendo en cuenta el descuento aplicado o sin él. \n",
    "\n",
    "6. Recuerda utilizar estructuras de control de flujo como if, elif y else para llevar a cabo estas acciones en tu programa de Python."
   ]
  },
  {
   "cell_type": "code",
   "execution_count": 8,
   "metadata": {},
   "outputs": [
    {
     "name": "stdout",
     "output_type": "stream",
     "text": [
      "10.0\n",
      "precio original es 10.0.\n",
      " El valor del cupon es 2.0\n",
      " Precio final es 8.0\n"
     ]
    }
   ],
   "source": [
    "precio_original = float(input(\"Ingresa el precio original del articulo: \"))\n",
    "print(precio_original)\n",
    "descuento_si_no = input(\"Tienes descuento? Respuesta si/no: \").lower()\n",
    "while descuento_si_no != 'si' and descuento_si_no != 'no':\n",
    "    descuento_si_no = input(\"Respuesta inválida. ¿Tienes descuento? Respuesta si/no: \")\n",
    "if descuento_si_no == 'si':\n",
    "    valor_cupon = float(input(\"Introduce el valor del cupon: \"))\n",
    "    while valor_cupon <= 0 :\n",
    "        valor_cupon = float(input(\"Respuesta invalida. Introduce un valor mayor que 0: \"))\n",
    "\n",
    "print(f\"precio original es £{precio_original}.\\n El valor del cupon es £{valor_cupon}\\n Precio final es £{precio_original-valor_cupon}\")"
   ]
  },
  {
   "cell_type": "markdown",
   "metadata": {},
   "source": [
    "Modifica el programa anterior para que el usuario ingrese un porcentaje de descuento en lugar de un valor fijo (por ejemplo, 30%). Aplica el descuento en base al porcentaje ingresado."
   ]
  },
  {
   "cell_type": "code",
   "execution_count": 10,
   "metadata": {},
   "outputs": [
    {
     "name": "stdout",
     "output_type": "stream",
     "text": [
      "100.0\n",
      "precio original es £100.0.\n",
      " El valor del cupon es 22.0%\n",
      " Precio final es £78.0\n"
     ]
    }
   ],
   "source": [
    "precio_original = float(input(\"Ingresa el precio original del articulo: \"))\n",
    "print(precio_original)\n",
    "descuento_si_no = input(\"Tienes descuento? Respuesta si/no: \").lower()\n",
    "while descuento_si_no != 'si' and descuento_si_no != 'no':\n",
    "    descuento_si_no = input(\"Respuesta inválida. ¿Tienes descuento? Respuesta si/no: \")\n",
    "if descuento_si_no == 'si':\n",
    "    valor_cupon = float(input(\"Introduce el valor del cupon en porcentaje (valores entre 0 y 100): \"))\n",
    "    while valor_cupon <= 0 and valor_cupon > 100 :\n",
    "        valor_cupon = float(input(\"Respuesta invalida. Introduce un valor mayor que 0 y menor que 100: \"))\n",
    "\n",
    "print(f\"precio original es £{precio_original}.\\n El valor del cupon es {valor_cupon}%\\n Precio final es £{precio_original - (precio_original*(valor_cupon/100))}\")"
   ]
  },
  {
   "cell_type": "markdown",
   "metadata": {},
   "source": [
    "Modifica el programa anterior agregando un límite al descuento, donde el descuento mínimo sea del 5% y el máximo del 50%. Si el usuario ingresa un porcentaje fuera de este rango, notifíquele y aplique el descuento mínimo o máximo según sea el caso."
   ]
  },
  {
   "cell_type": "code",
   "execution_count": null,
   "metadata": {},
   "outputs": [],
   "source": [
    "precio_original = float(input(\"Ingresa el precio original del articulo: \"))\n",
    "print(precio_original)\n",
    "descuento_si_no = input(\"Tienes descuento? Respuesta si/no: \").lower()\n",
    "while descuento_si_no != 'si' and descuento_si_no != 'no':\n",
    "    descuento_si_no = input(\"Respuesta inválida. ¿Tienes descuento? Respuesta si/no: \")\n",
    "if descuento_si_no == 'si':\n",
    "    valor_cupon = float(input(\"Introduce el valor del cupon en porcentaje (valores entre 5 y 50): \"))\n",
    "    while valor_cupon <= 5 and valor_cupon > 50 :\n",
    "        valor_cupon = float(input(\"Respuesta invalida. Introduce un valor mayor que 5 y menor que 50: \"))\n",
    "\n",
    "print(f\"precio original es £{precio_original}.\\n El valor del cupon es {valor_cupon}%\\n Precio final es £{precio_original - (precio_original*(valor_cupon/100))}\")"
   ]
  },
  {
   "cell_type": "markdown",
   "metadata": {},
   "source": [
    "Crea un programa nuevo que permita al usuario ingresar varios artículos, cada uno con su precio original y cupón de descuento. Aplica los descuentos correspondientes a cada producto y muestra el monto total final de la compra."
   ]
  },
  {
   "cell_type": "code",
   "execution_count": 13,
   "metadata": {},
   "outputs": [
    {
     "name": "stdout",
     "output_type": "stream",
     "text": [
      "['leche', 'avellanas', 'azucar']\n",
      "{'leche': ['2', '3']}\n",
      "El artículo leche tiene un precio final de -1.0\n"
     ]
    }
   ],
   "source": [
    "\n",
    "lista_articulos = []\n",
    "nombre_articulo = input(\"Anade un articulo, si has terminado, escribe 'ya': \").lower()\n",
    "while nombre_articulo != 'ya':\n",
    "    lista_articulos.append(nombre_articulo)\n",
    "    nombre_articulo = input(\"Anade un articulo, si has terminado, escribe 'ya': \").lower()\n",
    "if 'ya' in lista_articulos:\n",
    "    lista_articulos.remove('ya')\n",
    "print(lista_articulos)\n",
    "\n",
    "dto= []\n",
    "precio = []\n",
    "for articulo in lista_articulos:\n",
    "    precio = input(f\"Anade el precio del articulo:{articulo} \")\n",
    "    dto = input(f\"Anade el dto del articulo:{articulo} \")\n",
    "\n",
    "#precio = [9,5,7] # debug\n",
    "#dto = [1,2,3] # debug\n",
    "#lista_articulos = ['leche', 'zanahorias','nabo'] # debug\n",
    "\n",
    "new_dict = {articulo: [precio, dto] for articulo, precio, dto in zip(lista_articulos, precio, dto)}\n",
    "print(new_dict)\n",
    "\n",
    "for key, value in new_dict.items():\n",
    "    \n",
    "    precio_final = float(value[0]) - float(value[1])\n",
    "    print(f\"El artículo {key} tiene un precio final de {precio_final}\")"
   ]
  },
  {
   "cell_type": "markdown",
   "metadata": {},
   "source": [
    "Crea un nuevo programa que permita aplicar descuentos por categorías. En este caso, nuestra tienda aplicará descuentos en función de la categoría (por ejemplo, electrónica, ropa, juguetes). Pregunta al usuario a que categoría pertenece su producto y aplica el descuento correspondiente a la categoría. Debes solicitar al usuario que ingrese la categoría del articulo y el precio para aplicarle el descuento. "
   ]
  },
  {
   "cell_type": "code",
   "execution_count": 21,
   "metadata": {},
   "outputs": [
    {
     "name": "stdout",
     "output_type": "stream",
     "text": [
      "El precio del artículo robot con el 10% de descuento es 90.00 euros.\n"
     ]
    }
   ],
   "source": [
    "categorias = ['electronica', 'ropa', 'jugetes']\n",
    "nombre_articulo = input(\"Escribe el nombre del artículo: \").lower()\n",
    "precio = float(input(f\"Añade el precio del artículo {nombre_articulo}: \")) \n",
    "nombre_categoria = input(\"Añade la categoría, escribe 1 para 'electronica', 2 para 'ropa', 3 para 'jugetes': \")\n",
    "\n",
    "\n",
    "if nombre_categoria == '1':\n",
    "    preciodto = precio - (precio * 0.1)\n",
    "    print(f\"El precio del artículo {nombre_articulo} con el 10% de descuento es {preciodto:.2f} euros.\")\n",
    "elif nombre_categoria == '2':\n",
    "    preciodto = precio - (precio * 0.2)\n",
    "    print(f\"El precio del artículo {nombre_articulo} con el 20% de descuento es {preciodto:.2f} euros.\")\n",
    "elif nombre_categoria == '3':\n",
    "    preciodto = precio - (precio * 0.3)\n",
    "    print(f\"El precio del artículo {nombre_articulo} con el 30% de descuento es {preciodto:.2f} euros.\")\n",
    "else:\n",
    "    print(\"Categoría no válida.\")\n",
    "\n"
   ]
  },
  {
   "cell_type": "markdown",
   "metadata": {},
   "source": [
    "Crea un nuevo programa que aplique descuentos automáticos en función de la fecha actual. Aplica un descuento del 10% en compras realizadas entre lunes y viernes o un descuento del 15% en compras realizadas durante los fines de semana."
   ]
  },
  {
   "cell_type": "code",
   "execution_count": 25,
   "metadata": {},
   "outputs": [
    {
     "name": "stdout",
     "output_type": "stream",
     "text": [
      "3\n",
      "El precio del artículo chocolate entre semana con el 10% de descuento es 90.00 euros.\n"
     ]
    }
   ],
   "source": [
    "import datetime\n",
    "dia_semana = datetime.datetime.today().weekday() #https://stackoverflow.com/questions/9847213/how-do-i-get-the-day-of-week-given-a-date\n",
    "\n",
    "nombre_articulo = input(\"Escribe el nombre del artículo: \").lower()\n",
    "precio = float(input(f\"Añade el precio del artículo {nombre_articulo}: \")) \n",
    "\n",
    "if dia_semana in [1,2,3,4,5]:\n",
    "    preciodto = precio - (precio * 0.1)\n",
    "    print(f\"El precio del artículo {nombre_articulo} entre semana con el 10% de descuento es {preciodto:.2f} euros.\")\n",
    "elif dia_semana == '2':\n",
    "    preciodto = precio - (precio * 0.2)\n",
    "    print(f\"El precio del artículo {nombre_articulo} los fines de semana con el 20% de descuento es {preciodto:.2f} euros.\")"
   ]
  },
  {
   "cell_type": "markdown",
   "metadata": {},
   "source": [
    "Crea un programa nuevo que implemente un sistema de membresía donde los usuarios registrados obtengan un descuento adicional del 5%. Solicita al usuario que ingrese su nombre de usuario y contraseña para verificar su membresía y aplique el descuento adicional si corresponde. \n",
    "\n",
    "📝 Nota: Para este ejercicio solo tendremos un usuario registrado. El usuario es `USUARIO` y la contraseña es  `USUARIO123`. \n"
   ]
  },
  {
   "cell_type": "code",
   "execution_count": 29,
   "metadata": {},
   "outputs": [
    {
     "name": "stdout",
     "output_type": "stream",
     "text": [
      "contrasena aceptada\n"
     ]
    }
   ],
   "source": [
    "registro = {'usuario':'USUARIO','contrasena':'USUARIO123'}\n",
    "\n",
    "nombre_usuario = input(\"Escribe tu usuario: \")\n",
    "intentos_usuario = 0\n",
    "\n",
    "while nombre_usuario != registro['usuario'] and intentos_usuario < 3:\n",
    "    intentos_usuario += 1\n",
    "    nombre_usuario = input(f\"Usuario no valido. Te quedan {4 - intentos_usuario} intentos. Escribe tu usuario: \")\n",
    "\n",
    "contrasena = input(\"Escribe tu contrasena: \")\n",
    "intentos_contrasena = 0\n",
    "while contrasena != registro['contrasena']:\n",
    "    intentos_contrasena += 1\n",
    "    contrasena = input(f\"Contrasena no valido. Te quedan {4 - intentos_contrasena} intentos. Escribe tu contrasena: \")\n",
    "\n",
    "print(\"contrasena aceptada\")\n"
   ]
  },
  {
   "cell_type": "markdown",
   "metadata": {},
   "source": [
    "Crea un nuevo programa que ofrezca un descuento del 10% adicional si el usuario compra más de 5 artículos del mismo tipo. Debes verificar la cantidad de productos comprados y aplicar el descuento adicional si corresponde.\n"
   ]
  },
  {
   "cell_type": "code",
   "execution_count": 31,
   "metadata": {},
   "outputs": [
    {
     "name": "stdout",
     "output_type": "stream",
     "text": [
      "['pan', 'leche', 'miel', 'galletas', 'azucar', 'vino', 'queso']\n",
      "Tienes un descuento del 10%\n"
     ]
    }
   ],
   "source": [
    "lista_articulos = []\n",
    "nombre_articulo = input(\"Anade un articulo, si has terminado, escribe 'ya': \").lower()\n",
    "while nombre_articulo != 'ya':\n",
    "    lista_articulos.append(nombre_articulo)\n",
    "    nombre_articulo = input(\"Anade un articulo, si has terminado, escribe 'ya': \").lower()\n",
    "if 'ya' in lista_articulos:\n",
    "    lista_articulos.remove('ya')\n",
    "print(lista_articulos)\n",
    "\n",
    "if len(lista_articulos) >= 5:\n",
    "    print(\"Tienes un descuento del 10%\")\n",
    "else:\n",
    "    print(f\"Lo sentimos, compraste {len(lista_articulos)} articulos. El minimo numero para el dto es 5\")"
   ]
  },
  {
   "cell_type": "markdown",
   "metadata": {},
   "source": [
    "Crea un nuevo programa que ofrezca descuentos progresivos en función del volumen de compra. Aplica un descuento del 5% para compras entre 100€ y 200€, un descuento del 10% para compras entre 200€ y 500€ y un descuento del 15% para compras superiores a 500€."
   ]
  },
  {
   "cell_type": "code",
   "execution_count": 34,
   "metadata": {},
   "outputs": [
    {
     "name": "stdout",
     "output_type": "stream",
     "text": [
      "['100', '200', '300', '400']\n",
      "El precio final es 850.0\n"
     ]
    }
   ],
   "source": [
    "lista_precios = []\n",
    "precio = input(\"Anade el precio del articulo, si has terminado, escribe 'ya': \").lower()\n",
    "while precio != 'ya':\n",
    "    lista_precios.append(precio)\n",
    "    precio = input(\"Anade otro precio, si has terminado, escribe 'ya': \").lower()\n",
    "if 'ya' in lista_articulos:\n",
    "    lista_precios.remove('ya')\n",
    "print(lista_precios)\n",
    "\n",
    "suma = 0\n",
    "for p in lista_precios:\n",
    "    suma = suma + float(p)\n",
    "\n",
    "if suma > 100 and suma <200:\n",
    "    print(f\"El precio final es {suma-(suma*0.05)}\")\n",
    "elif suma > 200 and suma < 500:\n",
    "    print(f\"El precio final es {suma-(suma*0.10)}\")\n",
    "elif suma > 500:\n",
    "    print(f\"El precio final es {suma-(suma*0.15)}\")\n",
    "\n",
    "\n"
   ]
  },
  {
   "cell_type": "markdown",
   "metadata": {},
   "source": [
    "Crea un nuevo programa  que ofrezca un descuento adicional del 3% si el usuario paga con tarjeta de crédito o débito. Solicita al usuario que ingrese el método de pago y el descuento original, por último aplica el descuento si corresponde."
   ]
  },
  {
   "cell_type": "code",
   "execution_count": 36,
   "metadata": {},
   "outputs": [
    {
     "name": "stdout",
     "output_type": "stream",
     "text": [
      "debito\n",
      "['120', '200']\n",
      "El precio final al pagar con tarjeta de debito es 278.4\n"
     ]
    }
   ],
   "source": [
    "\n",
    "metodo = input(\"Anade el metodo de pago debito o credito: \").lower()\n",
    "while metodo not in ['debito', 'credito']:\n",
    "    metodo = input(\"Anade un metodo correcto. Solo puedes usar el metodo de pago debito o credito: \").lower()\n",
    "print(metodo)\n",
    "lista_precios = []\n",
    "precio = input(\"Anade el precio del articulo, si has terminado, escribe 'ya': \").lower()\n",
    "while precio != 'ya':\n",
    "    lista_precios.append(precio)\n",
    "    precio = input(\"Anade otro precio, si has terminado, escribe 'ya': \").lower()\n",
    "if 'ya' in lista_articulos:\n",
    "    lista_precios.remove('ya')\n",
    "print(lista_precios)\n",
    "\n",
    "suma = 0\n",
    "for p in lista_precios:\n",
    "    suma = suma + float(p)\n",
    "\n",
    "if metodo == 'debito':\n",
    "\n",
    "    if suma > 100 and suma <200:\n",
    "        print(f\"El precio final al pagar con tarjeta de debito es {suma-(suma*0.05) - (suma*0.03)}\")\n",
    "    elif suma > 200 and suma < 500:\n",
    "        print(f\"El precio final al pagar con tarjeta de debito es {suma-(suma*0.10) - (suma*0.03)}\")\n",
    "    elif suma > 500:\n",
    "        print(f\"El precio final al pagar con tarjeta de debito es {suma-(suma*0.15) - (suma*0.03)}\")\n",
    "    elif suma <= 100:\n",
    "        print(f\"El precio final al pagar con tarjeta de debito es {suma - (suma*0.03)}\")\n",
    "\n",
    "else:\n",
    "    if suma > 100 and suma <200:\n",
    "        print(f\"El precio final es {suma-(suma*0.05)}\")\n",
    "    elif suma > 200 and suma < 500:\n",
    "        print(f\"El precio final es {suma-(suma*0.10)}\")\n",
    "    elif suma > 500:\n",
    "        print(f\"El precio final es {suma-(suma*0.15)}\")\n",
    "    elif suma <= 100:\n",
    "        print(f\"El precio final es {suma}\")\n"
   ]
  }
 ],
 "metadata": {
  "kernelspec": {
   "display_name": "hackio",
   "language": "python",
   "name": "python3"
  },
  "language_info": {
   "codemirror_mode": {
    "name": "ipython",
    "version": 3
   },
   "file_extension": ".py",
   "mimetype": "text/x-python",
   "name": "python",
   "nbconvert_exporter": "python",
   "pygments_lexer": "ipython3",
   "version": "3.12.5"
  }
 },
 "nbformat": 4,
 "nbformat_minor": 2
}
