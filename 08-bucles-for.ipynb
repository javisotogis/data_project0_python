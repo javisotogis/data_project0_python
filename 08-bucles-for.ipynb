{
 "cells": [
  {
   "cell_type": "markdown",
   "metadata": {},
   "source": [
    "<div style=\"text-align: center;\">\n",
    "  <img src=\"https://github.com/Hack-io-Data/Imagenes/blob/main/01-LogosHackio/logo_celeste@4x.png?raw=true\" alt=\"logo hack(io)\" />\n",
    "</div>"
   ]
  },
  {
   "cell_type": "markdown",
   "metadata": {},
   "source": [
    "####  1. Genera una lista de números del 0 al 4 y luego imprime cada número en la lista usando un `bucle for`. "
   ]
  },
  {
   "cell_type": "code",
   "execution_count": 2,
   "metadata": {},
   "outputs": [
    {
     "name": "stdout",
     "output_type": "stream",
     "text": [
      "1\n",
      "2\n",
      "3\n",
      "4\n"
     ]
    }
   ],
   "source": [
    "lista = [1,2,3,4]\n",
    "for i in lista:\n",
    "    print(i)"
   ]
  },
  {
   "cell_type": "markdown",
   "metadata": {},
   "source": [
    "#### 2. Itera sobre una lista de frutas y muestra cada fruta en mayúsculas. \n"
   ]
  },
  {
   "cell_type": "code",
   "execution_count": 4,
   "metadata": {},
   "outputs": [
    {
     "name": "stdout",
     "output_type": "stream",
     "text": [
      "MANZANA\n",
      "PERA\n",
      "BANANA\n",
      "MANGO\n"
     ]
    }
   ],
   "source": [
    "lista = ['manzana','pera','banana','mango']\n",
    "for i in lista:\n",
    "    print(i.upper())"
   ]
  },
  {
   "cell_type": "markdown",
   "metadata": {},
   "source": [
    "####  3. Genera un bucle while que imprima los números del 0 al 4. \n"
   ]
  },
  {
   "cell_type": "code",
   "execution_count": 20,
   "metadata": {},
   "outputs": [
    {
     "name": "stdout",
     "output_type": "stream",
     "text": [
      "0\n",
      "1\n",
      "2\n",
      "3\n",
      "4\n"
     ]
    }
   ],
   "source": [
    "i = 0\n",
    "while i <= 4:\n",
    "    print(i)\n",
    "    i += 1\n",
    "\n",
    "\n"
   ]
  },
  {
   "cell_type": "markdown",
   "metadata": {},
   "source": [
    "#### 4. Genera un bucle del 0 al 9, pero que se detenga en el 5.\n"
   ]
  },
  {
   "cell_type": "code",
   "execution_count": 23,
   "metadata": {},
   "outputs": [
    {
     "name": "stdout",
     "output_type": "stream",
     "text": [
      "0\n",
      "1\n",
      "2\n",
      "3\n",
      "4\n",
      "5\n"
     ]
    }
   ],
   "source": [
    "i = 0\n",
    "while i <= 9:\n",
    "    if i < 6:\n",
    "        print(i)\n",
    "        i += 1\n",
    "    else:\n",
    "        break"
   ]
  },
  {
   "cell_type": "markdown",
   "metadata": {},
   "source": [
    "#### 5. Recorre los números del 0 al 9 e imprime solo los números impares."
   ]
  },
  {
   "cell_type": "code",
   "execution_count": 30,
   "metadata": {},
   "outputs": [
    {
     "name": "stdout",
     "output_type": "stream",
     "text": [
      "1\n",
      "3\n",
      "5\n",
      "7\n",
      "9\n"
     ]
    }
   ],
   "source": [
    "i = 0\n",
    "while i <= 9:\n",
    "    i += 1\n",
    "    if i % 2 != 0:\n",
    "        print(i)\n",
    "        \n",
    "\n"
   ]
  },
  {
   "cell_type": "markdown",
   "metadata": {},
   "source": [
    "#### 6. Dada la lista `[10, 20, 30, 40, 50]`, calcula la suma de todos los elementos usando un bucle `for`."
   ]
  },
  {
   "cell_type": "code",
   "execution_count": 34,
   "metadata": {},
   "outputs": [
    {
     "name": "stdout",
     "output_type": "stream",
     "text": [
      "150\n"
     ]
    }
   ],
   "source": [
    "lista = [10,20,30,40,50]\n",
    "n = 0\n",
    "for i in lista:\n",
    "    n = n + i\n",
    "\n",
    "print(n)"
   ]
  },
  {
   "cell_type": "markdown",
   "metadata": {},
   "source": [
    "#### 7. Dada la cadena `\"Hola mundo\"`, cuenta cuántas veces aparecen las vocales (`a`, `e`, `i`, `o`, `u`) usando un bucle `for`.\n"
   ]
  },
  {
   "cell_type": "code",
   "execution_count": 40,
   "metadata": {},
   "outputs": [
    {
     "name": "stdout",
     "output_type": "stream",
     "text": [
      "1\n",
      "0\n",
      "0\n",
      "2\n",
      "1\n"
     ]
    }
   ],
   "source": [
    "cadena = \"Hola mundo\"\n",
    "a = 0\n",
    "e = 0\n",
    "i = 0\n",
    "o = 0\n",
    "u = 0\n",
    "\n",
    "for l in cadena:\n",
    "    if l == 'a':\n",
    "        a = a + 1\n",
    "    elif l == 'e':\n",
    "        e = e + 1\n",
    "    elif l == 'i':\n",
    "        i = i + 1\n",
    "    elif l == 'o':\n",
    "        o = o + 1\n",
    "    elif l == 'u':\n",
    "        u = u + 1\n",
    "\n",
    "print(a)\n",
    "print(e)\n",
    "print(i)\n",
    "print(o)\n",
    "print(u)\n"
   ]
  },
  {
   "cell_type": "markdown",
   "metadata": {},
   "source": [
    "#### 8. Dada la cadena `\"Python\"`, usa un bucle `for` para imprimir los caracteres en orden inverso (`n`, `o`, `h`, `t`, `y`, `P`).\n"
   ]
  },
  {
   "cell_type": "code",
   "execution_count": 41,
   "metadata": {},
   "outputs": [
    {
     "name": "stdout",
     "output_type": "stream",
     "text": [
      "n\n",
      "o\n",
      "h\n",
      "t\n",
      "y\n",
      "P\n"
     ]
    }
   ],
   "source": [
    "cadena = \"Python\"\n",
    "\n",
    "for l in reversed(cadena):\n",
    "    print(l)"
   ]
  },
  {
   "cell_type": "markdown",
   "metadata": {},
   "source": [
    "#### 9. Dada la lista `[1, 2, 3, 4, 5]`, multiplica todos sus elementos usando un bucle `for` y almacena los resultados en una lista nueva. \n"
   ]
  },
  {
   "cell_type": "code",
   "execution_count": 45,
   "metadata": {},
   "outputs": [
    {
     "name": "stdout",
     "output_type": "stream",
     "text": [
      "[5, 10, 15, 20, 25]\n"
     ]
    }
   ],
   "source": [
    "lista = [1,2,3,4,5]\n",
    "lista2 = []\n",
    "a = 5\n",
    "for n in lista:\n",
    "    c = n * 5\n",
    "    lista2.append(c)\n",
    "print(lista2)"
   ]
  },
  {
   "cell_type": "markdown",
   "metadata": {},
   "source": [
    "#### 10. Dada la lista `[1, 2, 3, 4, 5, 6, 7, 8, 9, 10]`, utiliza un bucle `for` para contar cuántos números son pares y cuántos son impares."
   ]
  },
  {
   "cell_type": "code",
   "execution_count": 46,
   "metadata": {},
   "outputs": [
    {
     "name": "stdout",
     "output_type": "stream",
     "text": [
      "5\n",
      "5\n"
     ]
    }
   ],
   "source": [
    "lista = [1,2,3,4,5,6,7,8,9,10]\n",
    "par = 0\n",
    "inpar = 0\n",
    "for i in lista:\n",
    "    if i % 2 == 0:\n",
    "        par += 1\n",
    "    else:\n",
    "        inpar += 1\n",
    "print(par)\n",
    "print(inpar)"
   ]
  },
  {
   "cell_type": "markdown",
   "metadata": {},
   "source": [
    "#### 11. Escribe un programa que solicite al usuario un número entero positivo (`n`) y calcule la suma de todos los números primos menores o iguales a `n`. Utiliza un bucle `for` para iterar sobre cada número y verifica si es primo."
   ]
  },
  {
   "cell_type": "code",
   "execution_count": 54,
   "metadata": {},
   "outputs": [
    {
     "name": "stdout",
     "output_type": "stream",
     "text": [
      "range(0, 11)\n",
      "1\n",
      "3 es primo\n",
      "2\n",
      "4 es primo\n",
      "4\n",
      "6 es primo\n",
      "3\n",
      "7 es primo\n",
      "2\n",
      "8 es primo\n",
      "1\n",
      "9 es primo\n",
      "55\n"
     ]
    }
   ],
   "source": [
    "numero = int(input(\"Escribe un numero que sea entero positivo: \"))\n",
    "rango = range(0,numero+1)\n",
    "print(rango)\n",
    "suma = 0\n",
    "for i in rango:\n",
    "    #print(i)\n",
    "    suma = suma + i\n",
    "    if i > 1:\n",
    "        if numero % i != 0:\n",
    "            print(numero%i)\n",
    "            print(f\"{i} es primo\")\n",
    "\n",
    "print(suma)\n",
    "\n",
    "## NO FUNCIONA!!!!!"
   ]
  },
  {
   "cell_type": "markdown",
   "metadata": {},
   "source": [
    "#### 12. Escribe un programa que solicite al usuario un número entero positivo (`n`) y luego imprima un patrón de asteriscos como el siguiente ejemplo para `n = 5`:\n",
    "```\n",
    "*\n",
    "**\n",
    "***\n",
    "****\n",
    "*****\n",
    "```\n",
    "Utiliza un bucle `for` anidado para controlar la cantidad de asteriscos en cada línea."
   ]
  },
  {
   "cell_type": "code",
   "execution_count": 68,
   "metadata": {},
   "outputs": [
    {
     "name": "stdout",
     "output_type": "stream",
     "text": [
      "*\n",
      "**\n",
      "***\n",
      "****\n",
      "*****\n",
      "******\n",
      "*******\n",
      "********\n",
      "*********\n",
      "**********\n",
      "***********\n",
      "************\n"
     ]
    }
   ],
   "source": [
    "\n",
    "numero = int(input(\"Escribe un numero que sea entero positivo: \"))\n",
    "if numero < 0:\n",
    "    print(\"El numero introducido no es entero positivo\")\n",
    "    exit(1)\n",
    "rango = range(0,numero+1)\n",
    "asteriscos = '*'\n",
    "print(asteriscos)\n",
    "for i in rango:\n",
    "    asteriscos += '*'\n",
    "    print(asteriscos)\n"
   ]
  },
  {
   "cell_type": "markdown",
   "metadata": {},
   "source": [
    "#### 13. Dado un texto, utiliza un bucle `for` para contar cuántas veces aparece cada palabra en el texto. Ignora mayúsculas/minúsculas y los signos de puntuación."
   ]
  },
  {
   "cell_type": "code",
   "execution_count": 47,
   "metadata": {},
   "outputs": [
    {
     "name": "stdout",
     "output_type": "stream",
     "text": [
      "pirata\n",
      "1\n"
     ]
    }
   ],
   "source": [
    "texto = \"\"\"\n",
    "Con diez cañones por banda,\n",
    "viento en popa, a toda vela,\n",
    "no corta el mar, sino vuela\n",
    "un velero bergantín.\n",
    "Bajel pirata que llaman,\n",
    "por su bravura, el Temido,\n",
    "en todo el mar conocido\n",
    "del uno al otro confín.\n",
    "\n",
    "La luna en el mar riela,\n",
    "en la lona gime el viento,\n",
    "y alza en blando movimiento\n",
    "olas de plata y azul;\n",
    "y va el capitán pirata,\n",
    "cantando alegre en la popa,\n",
    "Asia a un lado, al otro Europa,\n",
    "y allá a su frente Estambul.\n",
    "\n",
    "Navega, velero mío,\n",
    "sin temor,\n",
    "que ni enemigo navío,\n",
    "ni tormenta, ni bonanza\n",
    "tu rumbo a torcer alcanza,\n",
    "ni a sujetar tu valor.\n",
    "\n",
    "Veinte presas\n",
    "hemos hecho\n",
    "a despecho\n",
    "del inglés,\n",
    "y han rendido\n",
    "sus pendones\n",
    "cien naciones\n",
    "a mis pies.\n",
    "\n",
    "Que es mi barco mi tesoro,\n",
    "que es mi dios la libertad,\n",
    "mi ley, la fuerza y el viento,\n",
    "mi única patria, la mar.\n",
    "\"\"\"\n",
    "texto_sin_mayusculas = texto.lower()\n",
    "#print(texto_sin_mayusculas)\n",
    "palabras = texto_sin_mayusculas.split()\n",
    "\n",
    "cuenta_pirata = 0\n",
    "\n",
    "for i in palabras:\n",
    "    if i == 'pirata':\n",
    "        print(i)\n",
    "        cuenta_pirata += 1\n",
    "\n",
    "print(cuenta_pirata)\n",
    "\n",
    "\n"
   ]
  },
  {
   "cell_type": "markdown",
   "metadata": {},
   "source": [
    "#### 14. Escribe un programa que solicite al usuario dos números enteros positivos (`inicio` y `fin`, donde `inicio <= fin`) y luego calcule la suma de los números pares y la suma de los números impares en ese rango. Utiliza un bucle `for` para iterar sobre cada número y una estructura `if-else` para clasificar y sumar los números pares e impares."
   ]
  },
  {
   "cell_type": "code",
   "execution_count": 22,
   "metadata": {},
   "outputs": [
    {
     "name": "stdout",
     "output_type": "stream",
     "text": [
      "1\n",
      "100\n",
      "range(1, 100)\n",
      "2450\n",
      "2500\n"
     ]
    }
   ],
   "source": [
    "inicio = int(input(\"Escribe un numero: \"))\n",
    "print(inicio)\n",
    "fin = int(input(\"Escribe un numero menor o igual que el anterio: \"))\n",
    "print(fin)\n",
    "while inicio >= fin:\n",
    "    print(\"El segundo número debe ser mayor o igual que el primero.\")\n",
    "\n",
    "    fin = int(input(\"Escribe un numero menor o igual que el anterio: \"))\n",
    "\n",
    "rango = range(inicio, fin)\n",
    "print(rango)\n",
    "par = 0\n",
    "inpar = 0\n",
    "for i in rango:\n",
    "    if i % 2 == 0:\n",
    "        par = par + i\n",
    "    else:\n",
    "        inpar = inpar + i\n",
    "print(par)\n",
    "print(inpar)\n"
   ]
  },
  {
   "cell_type": "markdown",
   "metadata": {},
   "source": [
    "#### 15. Escribe un programa que solicite al usuario un número entero positivo (`n`) y luego identifique todos los números primos menores o iguales a `n`. Para cada número, imprime si es primo o no usando un bucle `for` y una estructura `if-else` para verificar la condición de primalidad."
   ]
  },
  {
   "cell_type": "code",
   "execution_count": 34,
   "metadata": {},
   "outputs": [
    {
     "name": "stdout",
     "output_type": "stream",
     "text": [
      "100\n",
      "2 No es primo\n",
      "3 Es primo\n",
      "4 No es primo\n",
      "5 No es primo\n",
      "6 Es primo\n",
      "7 Es primo\n",
      "8 Es primo\n",
      "9 Es primo\n",
      "10 No es primo\n"
     ]
    }
   ],
   "source": [
    "n = int(input(\"Escribe un numero entero positvo: \"))\n",
    "while n < 0:\n",
    "    n = int(input(\"Escribe un numero entero positvo: \"))\n",
    "print(n)\n",
    "\n",
    "for i in range(2, int(n**0.5) + 1):\n",
    "        if n % i == 0:\n",
    "            print(f\"{i} No es primo\")\n",
    "        else:\n",
    "             print(f\"{i} Es primo\")"
   ]
  },
  {
   "cell_type": "markdown",
   "metadata": {},
   "source": [
    "#### 16.Dada una lista de precios `[100, 200, 300, 400, 500]`, aplica un descuento del 10% a todos los precios mayores a `250`. Imprime la lista actualizada de precios después de aplicar el descuento utilizando un bucle `for`. "
   ]
  },
  {
   "cell_type": "code",
   "execution_count": 23,
   "metadata": {},
   "outputs": [
    {
     "name": "stdout",
     "output_type": "stream",
     "text": [
      "[100, 200, 270.0, 360.0, 450.0]\n"
     ]
    }
   ],
   "source": [
    "precios = [100,200,300,400,500]\n",
    "descuento = 0.1\n",
    "precios_actualizados = []\n",
    "\n",
    "for i in precios:\n",
    "    if i < 250:\n",
    "        precios_actualizados.append(i)\n",
    "    \n",
    "    else:\n",
    "        precios_actualizados.append(i-(i*descuento))\n",
    "\n",
    "print(precios_actualizados)"
   ]
  },
  {
   "cell_type": "markdown",
   "metadata": {},
   "source": [
    "#### 17. Dada una lista de calificaciones de estudiantes `[85, 92, 78, 90, 88]`, clasifica a cada estudiante como \"Aprobado\" si la calificación es mayor o igual a `80` y como \"Reprobado\" si es menor a `80`. Imprime el nombre de cada estudiante junto con su estado utilizando un bucle `for` y una estructura `if-else`.\n"
   ]
  },
  {
   "cell_type": "code",
   "execution_count": 30,
   "metadata": {},
   "outputs": [
    {
     "name": "stdout",
     "output_type": "stream",
     "text": [
      "Manolo Aprobado\n",
      "Carmen Aprobado\n",
      "Ruben Reprobado\n",
      "Paco Aprobado\n",
      "Maria Aprobado\n"
     ]
    }
   ],
   "source": [
    "notas = {\"Manolo\":85,\"Carmen\":92,\"Ruben\":78,\"Paco\":90,\"Maria\":88}\n",
    "\n",
    "corte = 80\n",
    "\n",
    "for n, v in notas.items():\n",
    "    #print(n,v)\n",
    "    if v < corte:\n",
    "        notas[n] = \"Reprobado\"\n",
    "\n",
    "    else:\n",
    "        notas[n] = \"Aprobado\"\n",
    "\n",
    "for n, v in notas.items():\n",
    "    print(n,v)\n",
    "        \n"
   ]
  },
  {
   "cell_type": "markdown",
   "metadata": {},
   "source": [
    "\n",
    "#### 18. Escribe un programa que solicite al usuario dos números enteros positivos (`inicio`, `fin`) y otro número entero positivo (`divisor`). Encuentra el número más grande en el rango desde `inicio` hasta `fin` que sea divisible por `divisor`. Utiliza un bucle `for` y una estructura `if-else` para verificar y mantener el registro del número más grande divisible por el divisor dado.\n"
   ]
  },
  {
   "cell_type": "markdown",
   "metadata": {},
   "source": []
  }
 ],
 "metadata": {
  "kernelspec": {
   "display_name": "hackio",
   "language": "python",
   "name": "python3"
  },
  "language_info": {
   "codemirror_mode": {
    "name": "ipython",
    "version": 3
   },
   "file_extension": ".py",
   "mimetype": "text/x-python",
   "name": "python",
   "nbconvert_exporter": "python",
   "pygments_lexer": "ipython3",
   "version": "3.12.5"
  }
 },
 "nbformat": 4,
 "nbformat_minor": 2
}
