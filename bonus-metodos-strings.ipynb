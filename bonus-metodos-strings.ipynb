{
 "cells": [
  {
   "cell_type": "markdown",
   "metadata": {},
   "source": [
    "<div style=\"text-align: center;\">\n",
    "  <img src=\"https://github.com/Hack-io-Data/Imagenes/blob/main/01-LogosHackio/logo_celeste@4x.png?raw=true\" alt=\"esquema\" />\n",
    "</div>"
   ]
  },
  {
   "cell_type": "markdown",
   "metadata": {},
   "source": [
    "\n",
    "#### Genera un dicionario con los nombres, apellidos y empresas de la siguinete lista de correos. \n",
    "\n",
    "Te deberá quedar un diccionario parecido al que se muestra a continuación: \n",
    "\n",
    "![resultado](https://github.com/Hack-io-Data/Imagenes/blob/main/04-Prework/Python/diccionario-bonus-strings.png?raw=true)"
   ]
  },
  {
   "cell_type": "code",
   "execution_count": 11,
   "metadata": {},
   "outputs": [
    {
     "name": "stdout",
     "output_type": "stream",
     "text": [
      "{'john': ['smith', 'tecnologiasavanzadas'], 'jane': ['doe', 'empresadigital'], 'jim': ['jones', 'tecnologiadinamica'], 'mary': ['smith', 'innovaciondigital'], 'bob': ['doe', 'solucionesinformaticas'], 'alice': ['smith', 'desarrollotecnologico'], 'tom': ['jones', 'tecnologiadinamica'], 'sally': ['jones', 'tecnologiamoderna'], 'jerry': ['smith', 'solucionestech'], 'beth': ['jones', 'tecnologiavanguardista']}\n"
     ]
    }
   ],
   "source": [
    "emails = ['john.doe@tecnologiainnovadora.com','jane.doe@empresatecnologica.com',\n",
    "'jim.smith@solucionesdigitales.com',\n",
    "'mary.jane@tecnologiapionera.com',\n",
    "'bob.jones@innovaciontecnologica.com',\n",
    "'alice.smith@desarrollotecnologico.com',\n",
    "'tom.jones@tecnologiadinamica.com',\n",
    "'sally.jones@tecnologiamoderna.com',\n",
    "'jerry.smith@solucionestech.com',\n",
    "'beth.jones@tecnologiavanguardista.com',\n",
    "'john.smith@tecnologiasavanzadas.com',\n",
    "'jane.doe@empresadigital.com',\n",
    "'jim.jones@tecnologiadinamica.com',\n",
    "'mary.smith@innovaciondigital.com',\n",
    "'bob.doe@solucionesinformaticas.com']\n",
    "\n",
    "nombre = []\n",
    "apellido = []\n",
    "empresa = []\n",
    "for i in emails:\n",
    "    nombres = i.split('.')\n",
    "    nombre.append(nombres[0])\n",
    "    apellido.append(nombres[1].split('@')[0])\n",
    "    empresa.append(nombres[1].split('@')[1])\n",
    "\n",
    "#print(nombre,apellido,empresa)\n",
    "new_dict = {i:[j, k] for i, j, k in zip(nombre, apellido, empresa)} # https://stackoverflow.com/questions/45898009/python-3-lists-to-dictionary\n",
    "print(new_dict)"
   ]
  }
 ],
 "metadata": {
  "kernelspec": {
   "display_name": "hackio",
   "language": "python",
   "name": "python3"
  },
  "language_info": {
   "codemirror_mode": {
    "name": "ipython",
    "version": 3
   },
   "file_extension": ".py",
   "mimetype": "text/x-python",
   "name": "python",
   "nbconvert_exporter": "python",
   "pygments_lexer": "ipython3",
   "version": "3.12.5"
  }
 },
 "nbformat": 4,
 "nbformat_minor": 2
}
