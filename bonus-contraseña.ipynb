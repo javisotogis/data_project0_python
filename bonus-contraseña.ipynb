{
 "cells": [
  {
   "cell_type": "markdown",
   "metadata": {},
   "source": [
    "<div style=\"text-align: center;\">\n",
    "  <img src=\"https://github.com/Hack-io-Data/Imagenes/blob/main/01-LogosHackio/logo_celeste@4x.png?raw=true\" alt=\"esquema\" />\n",
    "</div>\n"
   ]
  },
  {
   "cell_type": "markdown",
   "metadata": {},
   "source": [
    "# Comprobación de calidad de contraseñas\n",
    "\n",
    "En este ejercicio, tendrás que generar un programa que sea capaz de comprobar la calidad de contraseñas. La seguridad de nuestras contraseñas es fundamental para proteger nuestra información personal y evitar posibles ataques cibernéticos. Para ello, vamos a crear una función llamada `verificar_seguridad_contrasena` que evaluará la calidad de una contraseña. Esta función tomará como argumento la contraseña a evaluar y devolverá si la contraseña es segura o no basado en los siguientes criterios:\n",
    "\n",
    "1. La contraseña deberá tener al menos 8 caracteres.\n",
    "\n",
    "2. La contraseña deberá tener al menos una letra mayúscula.\n",
    "\n",
    "3. La contraseña deberá tener al menos una letra minúscula. \n",
    "\n",
    "4. La contraseña deberá tener al menos un número. \n",
    "\n",
    "5. La contraseña deberá tener al menos un caracter especial. \n",
    "\n",
    "6. La contraseña no deberá tener espacios en blanco. \n",
    "\n",
    "7. La contraseña no deberá tener caracteres repetidos. \n"
   ]
  },
  {
   "cell_type": "code",
   "execution_count": 37,
   "metadata": {},
   "outputs": [
    {
     "name": "stdout",
     "output_type": "stream",
     "text": [
      "la contrasena no puede contener caracteres repetidos\n"
     ]
    }
   ],
   "source": [
    "def verificar(contrasena):\n",
    "\n",
    "    mayusculas =[]\n",
    "    minusculas =[]\n",
    "    numeros =[]\n",
    "    espacios =[]\n",
    "    alpha_numeric = []\n",
    "    cuenta = {}\n",
    "    \n",
    "    if len(contrasena) < 8:\n",
    "        return \"contrasena tiene que tener mas de 8 catacteres\"\n",
    "    for letter in contrasena:\n",
    "        if letter.isupper():\n",
    "            mayusculas.append(letter)\n",
    "    if len(mayusculas) < 1:\n",
    "        return \"la contrasena deberia tener al menos una letra mayuscula\"    \n",
    "    for letter in contrasena:\n",
    "        if letter.islower():\n",
    "            minusculas.append(letter)\n",
    "    if len(minusculas) < 1:\n",
    "        return \"la contrasena deberia tener al menos una letra minuscula\"\n",
    "    for letter in contrasena:\n",
    "        if letter.isdigit():\n",
    "            numeros.append(letter)\n",
    "    if len(numeros) < 1:\n",
    "        return \"la contrasena deberia tener al menos un numero\"\n",
    "    for letter in contrasena:\n",
    "        if letter == ' ':\n",
    "            espacios.append(letter)\n",
    "    if len(espacios) > 0:\n",
    "        return \"la contrasena no puede tener espacios\"\n",
    "    for letter in contrasena:\n",
    "        if letter.isalnum():\n",
    "            alpha_numeric.append(letter)\n",
    "    if len(alpha_numeric) == len(contrasena):\n",
    "        return \"la contrasena debe contener al menos un caracter especial, por ejemplo: @ £ $ % +\"\n",
    "    for letra in contrasena:\n",
    "        if letra in cuenta:\n",
    "            cuenta[letra] += 1  # si la letra existe en el diccionario, sumale 1\n",
    "        else:\n",
    "            cuenta[letra] = 1 # si la letra no existe en el diccionario, agregala con valor de 1\n",
    "        if cuenta[letra] > 1:\n",
    "            return \"la contrasena no puede contener caracteres repetidos\"\n",
    "\n",
    "    return \"La contrasena es segura\"\n",
    "    \n",
    "    \n",
    "    \n",
    "\n",
    "print(verificar(\"Aaartyhd123@\"))\n",
    "\n"
   ]
  }
 ],
 "metadata": {
  "kernelspec": {
   "display_name": "hackio",
   "language": "python",
   "name": "python3"
  },
  "language_info": {
   "codemirror_mode": {
    "name": "ipython",
    "version": 3
   },
   "file_extension": ".py",
   "mimetype": "text/x-python",
   "name": "python",
   "nbconvert_exporter": "python",
   "pygments_lexer": "ipython3",
   "version": "3.12.5"
  }
 },
 "nbformat": 4,
 "nbformat_minor": 2
}
