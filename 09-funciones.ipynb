{
 "cells": [
  {
   "cell_type": "markdown",
   "metadata": {},
   "source": [
    "\n",
    "<div style=\"text-align: center;\">\n",
    "  <img src=\"https://github.com/Hack-io-Data/Imagenes/blob/main/01-LogosHackio/logo_celeste@4x.png?raw=true\" alt=\"esquema\" />\n",
    "</div>"
   ]
  },
  {
   "cell_type": "markdown",
   "metadata": {},
   "source": [
    "#### 1. Escribe una función sin parámetros que imprima el siguiente mensaje \"¡Hola! Bienvenido.\"\n"
   ]
  },
  {
   "cell_type": "code",
   "execution_count": 3,
   "metadata": {},
   "outputs": [
    {
     "name": "stdout",
     "output_type": "stream",
     "text": [
      "Hola, bienvenido\n"
     ]
    }
   ],
   "source": [
    "def hola():\n",
    "    print(\"Hola, bienvenido\")\n",
    "\n",
    "\n",
    "hola()"
   ]
  },
  {
   "cell_type": "markdown",
   "metadata": {},
   "source": [
    "#### 2. Escribe una función que reciba dos parámetros y devuelva la suma de ambos.\n"
   ]
  },
  {
   "cell_type": "code",
   "execution_count": 4,
   "metadata": {},
   "outputs": [
    {
     "data": {
      "text/plain": [
       "11"
      ]
     },
     "execution_count": 4,
     "metadata": {},
     "output_type": "execute_result"
    }
   ],
   "source": [
    "def suma(a,b):\n",
    "    return a + b\n",
    "\n",
    "suma(5,6)"
   ]
  },
  {
   "cell_type": "markdown",
   "metadata": {},
   "source": [
    "#### 3. Escribe una función que reciba un número y devuelva True si es par, False si no lo es."
   ]
  },
  {
   "cell_type": "code",
   "execution_count": 19,
   "metadata": {},
   "outputs": [
    {
     "name": "stdout",
     "output_type": "stream",
     "text": [
      "True\n"
     ]
    }
   ],
   "source": [
    "n = int(input(\"Escribe un numero entero: \"))\n",
    "def par_o_impar(n):\n",
    "\n",
    "    if n % 2 == 0:\n",
    "        return True\n",
    "    else:\n",
    "        return False\n",
    "\n",
    "a = par_o_impar(n)\n",
    "print(a)"
   ]
  },
  {
   "cell_type": "markdown",
   "metadata": {},
   "source": [
    "#### 4. Escribe un función que devuelva un saludo personalizado a una persona dado su nombre. \n"
   ]
  },
  {
   "cell_type": "code",
   "execution_count": 20,
   "metadata": {},
   "outputs": [
    {
     "name": "stdout",
     "output_type": "stream",
     "text": [
      "Hola Jose Ramon, que bueno verte!\n"
     ]
    }
   ],
   "source": [
    "nombre = \"Jose Ramon\"\n",
    "\n",
    "def saludo(nombre):\n",
    "    return f\"Hola {nombre}, que bueno verte!\"\n",
    "\n",
    "print(saludo(nombre))\n",
    "\n"
   ]
  },
  {
   "cell_type": "markdown",
   "metadata": {},
   "source": [
    "#### 5. Escribe una función que sume todos los números que reciba como argumento. La función debe recibir una cantidad variable de argumentos y devolver la suma de todos ellos."
   ]
  },
  {
   "cell_type": "code",
   "execution_count": 37,
   "metadata": {},
   "outputs": [
    {
     "name": "stdout",
     "output_type": "stream",
     "text": [
      "1\n",
      "2\n",
      "3\n",
      "4\n",
      "5\n",
      "15\n"
     ]
    }
   ],
   "source": [
    "def suma(*numero):\n",
    "    n = 0\n",
    "    for i in numero:\n",
    "        print(i)\n",
    "        n = n + i\n",
    "    return n\n",
    "\n",
    "\n",
    "print(suma(1,2,3,4,5))"
   ]
  },
  {
   "cell_type": "markdown",
   "metadata": {},
   "source": [
    "#### 6. Escribe una función que cuente las letras de una palabra y devuelva un diccionario con la cantidad de veces que se repite cada letra \n"
   ]
  },
  {
   "cell_type": "code",
   "execution_count": 81,
   "metadata": {},
   "outputs": [
    {
     "name": "stdout",
     "output_type": "stream",
     "text": [
      "s 3\n",
      "u 1\n",
      "p 2\n",
      "e 2\n",
      "r 2\n",
      "c 2\n",
      "a 3\n",
      "l 3\n",
      "i 6\n",
      "f 1\n",
      "g 1\n",
      "t 1\n",
      "o 3\n",
      "x 1\n",
      "d 1\n"
     ]
    }
   ],
   "source": [
    "def cuenta_letras(palabra):\n",
    "    cuenta = {}\n",
    "    for letra in palabra:\n",
    "        if letra in cuenta:\n",
    "            cuenta[letra] += 1  # si la letra existe en el diccionario, sumale 1\n",
    "        else:\n",
    "            cuenta[letra] = 1 # si la letra no existe en el diccionario, agregala con valor de 1\n",
    "\n",
    "    return cuenta\n",
    " \n",
    "palabra = cuenta_letras(\"supercalifragilisticoexpialidoso\")\n",
    "for key, value in palabra.items():\n",
    "    print(key, value)"
   ]
  },
  {
   "cell_type": "markdown",
   "metadata": {},
   "source": [
    "#### 7. Escribe un función recursiva para calcular el factorial de un número entero no negativo."
   ]
  },
  {
   "cell_type": "code",
   "execution_count": 74,
   "metadata": {},
   "outputs": [
    {
     "name": "stdout",
     "output_type": "stream",
     "text": [
      "120\n"
     ]
    }
   ],
   "source": [
    "def factorial(n):\n",
    "    if n < 0:\n",
    "        return \"Valores tiener que ser mayores que 0\"\n",
    "    if n == 1 or n == 0: \n",
    "        return 1\n",
    "    else:\n",
    "        return n * factorial(n - 1)  # Llamada recursiva acumulando el factorial\n",
    "\n",
    "numero = int(input(\"Escribe un numero: \"))\n",
    "resultado = factorial(numero)\n",
    "print(resultado)\n"
   ]
  },
  {
   "cell_type": "markdown",
   "metadata": {},
   "source": [
    "#### 8. Escribe una función que tome dos parámetros: `figura` (una cadena que puede ser `\"rectangulo\"`, `\"circulo\"` o `\"triangulo\"`) y `datos` (una tupla con los datos necesarios para calcular el área de la figura). "
   ]
  },
  {
   "cell_type": "code",
   "execution_count": 86,
   "metadata": {},
   "outputs": [
    {
     "name": "stdout",
     "output_type": "stream",
     "text": [
      "Área del rectángulo: 50\n",
      "Área del círculo: 153.93791\n",
      "Área del triángulo: 16.0\n"
     ]
    }
   ],
   "source": [
    "def calcular_area(figura, datos):\n",
    "    if figura == \"rectangulo\":\n",
    "        if len(datos) == 2:  # (base y altura)\n",
    "            base, altura = datos\n",
    "            return base * altura\n",
    "        else:\n",
    "            return \"Error: Se requieren dos datos (base y altura) para calcular el área del rectángulo.\"\n",
    "    \n",
    "    elif figura == \"circulo\":\n",
    "        if len(datos) == 1:  # (radio)\n",
    "            radio = datos[0]\n",
    "            return 3.14159 * radio**2\n",
    "        else:\n",
    "            return \"Error: Se requiere un dato (radio) para calcular el área del círculo.\"\n",
    "    \n",
    "    elif figura == \"triangulo\":\n",
    "        if len(datos) == 2: # (base y altura)\n",
    "            base, altura = datos\n",
    "            return (base * altura) / 2\n",
    "        else:\n",
    "            return \"Error: Se requieren dos datos (base y altura) para calcular el área del triángulo.\"\n",
    "    \n",
    "    else:\n",
    "        return \"Error: Figura no reconocida. Use 'rectangulo', 'circulo' o 'triangulo'.\"\n",
    "\n",
    "\n",
    "area_rectangulo = calcular_area(\"rectangulo\", (5, 10))  \n",
    "area_circulo = calcular_area(\"circulo\", (7,))           \n",
    "area_triangulo = calcular_area(\"triangulo\", (8, 4))    \n",
    "\n",
    "print(\"Área del rectángulo:\", area_rectangulo)\n",
    "print(\"Área del círculo:\", area_circulo)\n",
    "print(\"Área del triángulo:\", area_triangulo)\n"
   ]
  },
  {
   "cell_type": "markdown",
   "metadata": {},
   "source": [
    "#### 9. Escribe una función que tome una lista de números como parámetro y devuelva el número más grande de la lista. No utilices la función `max()` de Python en tu solución."
   ]
  },
  {
   "cell_type": "code",
   "execution_count": 95,
   "metadata": {},
   "outputs": [
    {
     "name": "stdout",
     "output_type": "stream",
     "text": [
      "7\n"
     ]
    }
   ],
   "source": [
    "def lista_numeros(lista):\n",
    "    lista.sort()\n",
    "    return lista[-1]\n",
    "\n",
    "mi_lista = [1,3,2,5,7,4,2]\n",
    "print(lista_numeros(mi_lista))"
   ]
  },
  {
   "cell_type": "markdown",
   "metadata": {},
   "source": [
    "#### 10. Escribe una función que tome una cadena como parámetro un texto y devuelva `True` si la cadena es un palíndromo (se lee igual de izquierda a derecha que de derecha a izquierda), y `False` en caso contrario. Ignora los espacios y considera mayúsculas y minúsculas de manera insensible.\n"
   ]
  },
  {
   "cell_type": "code",
   "execution_count": 102,
   "metadata": {},
   "outputs": [
    {
     "name": "stdout",
     "output_type": "stream",
     "text": [
      "True\n"
     ]
    }
   ],
   "source": [
    "def palindromo_finder(palabra):\n",
    "    if palabra.lower()[::-1] == palabra.lower():\n",
    "        return True\n",
    "    else:\n",
    "        return False\n",
    "\n",
    "mi_palabra = input(\"Escribe una palabra: \")\n",
    "print(palindromo_finder(mi_palabra))"
   ]
  },
  {
   "cell_type": "markdown",
   "metadata": {},
   "source": [
    "#### 11. Escribe una función que tome una cadena como parámetro y devuelva dos valores: la cantidad de vocales y la cantidad de consonantes presentes en la cadena. Ignora los espacios y considera mayúsculas y minúsculas de manera insensible.\n"
   ]
  },
  {
   "cell_type": "code",
   "execution_count": 105,
   "metadata": {},
   "outputs": [
    {
     "name": "stdout",
     "output_type": "stream",
     "text": [
      "s 3\n",
      "u 1\n",
      "p 2\n",
      "e 2\n",
      "r 2\n",
      "c 2\n",
      "a 3\n",
      "l 3\n",
      "i 6\n",
      "f 1\n",
      "g 1\n",
      "t 1\n",
      "o 3\n",
      "x 1\n",
      "d 1\n"
     ]
    }
   ],
   "source": [
    "def cuenta_letras(palabra):\n",
    "    cuenta = {}\n",
    "    for letra in palabra:\n",
    "        if letra in cuenta:\n",
    "            cuenta[letra] += 1  # si la letra existe en el diccionario, sumale 1\n",
    "        else:\n",
    "            cuenta[letra] = 1 # si la letra no existe en el diccionario, agregala con valor de 1\n",
    "\n",
    "    for key, value in palabra.items():\n",
    "        if key in ()\n",
    "        print(key, value)\n",
    "    return cuenta\n",
    " \n",
    "palabra = cuenta_letras(\"supercalifragilisticoexpialidoso\")\n",
    "for key, value in palabra.items():\n",
    "    print(key, value)"
   ]
  }
 ],
 "metadata": {
  "kernelspec": {
   "display_name": "hackio",
   "language": "python",
   "name": "python3"
  },
  "language_info": {
   "codemirror_mode": {
    "name": "ipython",
    "version": 3
   },
   "file_extension": ".py",
   "mimetype": "text/x-python",
   "name": "python",
   "nbconvert_exporter": "python",
   "pygments_lexer": "ipython3",
   "version": "3.12.5"
  }
 },
 "nbformat": 4,
 "nbformat_minor": 2
}
