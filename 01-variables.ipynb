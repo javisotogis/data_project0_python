{
 "cells": [
  {
   "cell_type": "markdown",
   "metadata": {},
   "source": [
    "<div style=\"text-align: center;\">\n",
    "  <img src=\"https://github.com/Hack-io-Data/Imagenes/blob/main/01-LogosHackio/logo_celeste@4x.png?raw=true\" alt=\"logo hack(io)\" />\n",
    "</div>"
   ]
  },
  {
   "cell_type": "markdown",
   "metadata": {},
   "source": [
    "## Tipos de datos\n",
    "\n",
    "Es esencial comprender los distintos tipos de datos en Python, como enteros, flotantes, cadenas de texto, booleanos, listas, tuplas y diccionarios. Este conocimiento es fundamental para el diseño de algoritmos, ya que los tipos de datos determinan cómo se almacenan y procesan los datos en la memoria.\n",
    "\n",
    "En esta batería de ejercicios, exploraremos los tipos de datos en Python y cómo utilizarlos eficientemente. Desde los conceptos básicos hasta los más avanzados, esta serie de ejercicios está diseñada para mejorar las habilidades de programación en Python y profundizar la comprensión de los tipos de datos, esencial para desarrollar aplicaciones de calidad y eficientes."
   ]
  },
  {
   "cell_type": "markdown",
   "metadata": {},
   "source": [
    "### Ejercicio 1: Operaciones aritméticas con números complejos\n",
    "\n",
    "1-Declara dos variables `numero1` y `numero2` y asigna a ellas valores numéricos complejos.\n",
    "\n",
    "2-Realiza las siguientes operaciones: suma, resta, multiplicación y división.\n",
    "\n",
    "3-Imprime en pantalla el resultado de cada operación utilizando la función `print()`."
   ]
  },
  {
   "cell_type": "code",
   "execution_count": 3,
   "metadata": {},
   "outputs": [
    {
     "name": "stdout",
     "output_type": "stream",
     "text": [
      "numero1+numero2 = 10.79358\n",
      "numero1-numero2 = -3.6335800000000003\n",
      "numero1*numero2 = 25.8246164\n",
      "numero1/numero2 = 0.4962861713601291\n"
     ]
    }
   ],
   "source": [
    "numero1 = 3.58\n",
    "numero2 = 7.21358\n",
    "print(f\"numero1+numero2 =\", numero1+numero2)\n",
    "print(f\"numero1-numero2 =\", numero1-numero2)\n",
    "print(f\"numero1*numero2 =\", numero1*numero2)\n",
    "print(f\"numero1/numero2 =\", numero1/numero2)"
   ]
  },
  {
   "cell_type": "markdown",
   "metadata": {},
   "source": [
    "### Ejercicio 2: Formateo de cadenas de texto\n",
    "\n",
    "1-Declara una variable `nombre` y asigna a ella el valor 'Juan'.\n",
    "\n",
    "2-Declara una variable `edad` y asigna a ella el valor 25.\n",
    "\n",
    "3- Declara una variable llamada `peso` y asigna a ella el valor 75.5.\n",
    "\n",
    "4-Declara una variable llamada `altura` y asigna a ella el valor 1.75.\n",
    "\n",
    "5-Imprime en pantalla el valor de cada variable utilizando la función print().\n",
    "\n",
    "6-Utiliza el formateo de cadenas de texto para imprimir en pantalla un mensaje que diga: `Hola me llamo Juan, tengo 25 años, peso 75.5 kg y mido 1.75 m`."
   ]
  },
  {
   "cell_type": "code",
   "execution_count": 5,
   "metadata": {},
   "outputs": [
    {
     "name": "stdout",
     "output_type": "stream",
     "text": [
      "Hola me llamo Juan, tengo 25 anios, peso 75.5 kg y mido 1.75 m\n"
     ]
    }
   ],
   "source": [
    "nombre = 'Juan'\n",
    "edad = 25\n",
    "peso = 75.5\n",
    "altura = 1.75\n",
    "print(f\"Hola me llamo {nombre}, tengo {edad} anios, peso {peso} kg y mido {altura} m\")"
   ]
  },
  {
   "cell_type": "markdown",
   "metadata": {},
   "source": [
    "### Ejercicio 3: Conversión de cadenas de texto a números\n",
    "\n",
    "\n",
    "1-Declara una variable `cadena` y asigna a ella el valor '10'.\n",
    "\n",
    "2-Utiliza la función type() para obtener el tipo de dato de `cadena` y asigna el resultado a una variable llamada `tipo`.\n",
    "\n",
    "3- Imprime en pantalla el valor de `tipo` utilizando la función print().\n",
    "\n",
    "4-Convierte el valor de `cadena` a entero y asigna el resultado a una variable llamada `numero`.\n",
    "\n",
    "5-Realiza la operación de incremento en `numero` y asigna el resultado a la misma variable.\n"
   ]
  },
  {
   "cell_type": "code",
   "execution_count": 8,
   "metadata": {},
   "outputs": [
    {
     "name": "stdout",
     "output_type": "stream",
     "text": [
      "<class 'int'>\n"
     ]
    }
   ],
   "source": [
    "cadena = 10\n",
    "tipo = type(cadena)\n",
    "print(tipo)\n",
    "numero = int(cadena)\n",
    "numero += 1\n"
   ]
  },
  {
   "cell_type": "markdown",
   "metadata": {},
   "source": [
    "### Ejercicio 4: Uso de la función input()\n",
    "\n",
    "1-Utiliza la función input() para solicitar al usuario que ingrese un número.\n",
    "\n",
    "2-Asigna el valor ingresado por el usuario a una variable llamada `numero`.\n",
    "\n",
    "3-Realiza la operación de incremento en `numero` y asigna el resultado a la misma variable.\n",
    "\n",
    "4-Imprime en pantalla el valor de numero utilizando la función print()."
   ]
  },
  {
   "cell_type": "code",
   "execution_count": 11,
   "metadata": {},
   "outputs": [
    {
     "name": "stdout",
     "output_type": "stream",
     "text": [
      "7\n",
      "8\n"
     ]
    }
   ],
   "source": [
    "numero = input(\"Ingresa un numero aqui: {}\")\n",
    "print(numero)\n",
    "numero = int(numero) + 1\n",
    "print(numero)"
   ]
  },
  {
   "cell_type": "code",
   "execution_count": null,
   "metadata": {},
   "outputs": [],
   "source": []
  }
 ],
 "metadata": {
  "kernelspec": {
   "display_name": "hackio",
   "language": "python",
   "name": "python3"
  },
  "language_info": {
   "codemirror_mode": {
    "name": "ipython",
    "version": 3
   },
   "file_extension": ".py",
   "mimetype": "text/x-python",
   "name": "python",
   "nbconvert_exporter": "python",
   "pygments_lexer": "ipython3",
   "version": "3.12.5"
  }
 },
 "nbformat": 4,
 "nbformat_minor": 2
}
